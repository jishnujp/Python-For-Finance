{
 "cells": [
  {
   "cell_type": "markdown",
   "id": "6b7d74e9",
   "metadata": {},
   "source": [
    "# Pandas Functions: Overview, Syntax, and Examples"
   ]
  },
  {
   "cell_type": "markdown",
   "id": "aa739736",
   "metadata": {},
   "source": [
    "## pd.Series()\n",
    "\n",
    "**Usage**: Creates a one-dimensional labeled array (Series) from data.\n",
    "        \n",
    "**Parameters**:\n",
    "- `data`: Array-like, Iterable, dict, or scalar value.\n",
    "- `index`: Array-like or Index (default is `RangeIndex`).\n",
    "- `dtype`: Data type of the output Series.\n",
    "- `name`: Name of the Series.\n",
    "        "
   ]
  },
  {
   "cell_type": "code",
   "execution_count": 1,
   "id": "01b539a2",
   "metadata": {},
   "outputs": [
    {
     "name": "stdout",
     "output_type": "stream",
     "text": [
      "0    1.0\n",
      "1    3.0\n",
      "2    5.0\n",
      "3    NaN\n",
      "4    6.0\n",
      "5    8.0\n",
      "dtype: float64\n",
      "********************\n",
      "a    1.0\n",
      "b    3.0\n",
      "c    5.0\n",
      "d    NaN\n",
      "e    6.0\n",
      "f    8.0\n",
      "Name: test, dtype: float64\n"
     ]
    }
   ],
   "source": [
    "import pandas as pd\n",
    "import numpy as np\n",
    "\n",
    "s = pd.Series([1, 3, 5, np.nan, 6, 8])\n",
    "s1 = pd.Series([1, 3, 5, np.nan, 6, 8], index=['a', 'b', 'c', 'd', 'e', 'f'], name='test')\n",
    "print(s)\n",
    "print(\"*\"*20)\n",
    "print(s1)"
   ]
  },
  {
   "cell_type": "code",
   "execution_count": 2,
   "id": "abb61ddc",
   "metadata": {},
   "outputs": [
    {
     "name": "stdout",
     "output_type": "stream",
     "text": [
      "5.0 3.0\n"
     ]
    }
   ],
   "source": [
    "## Accessing elements of a series\n",
    "print(s[2], s1['b'])"
   ]
  },
  {
   "cell_type": "markdown",
   "id": "d614a06d",
   "metadata": {},
   "source": [
    "## pd.DataFrame()\n",
    "\n",
    "**Usage**: Creates a two-dimensional labeled data structure (DataFrame) from various data inputs.\n",
    "\n",
    "**Parameters**:\n",
    "- `data`: Various forms like dict, array, Series, or DataFrame.\n",
    "- `index`: Index or array-like to label rows.\n",
    "- `columns`: Index or array-like to label columns.\n",
    "- `dtype`: Data type to force.\n",
    "        "
   ]
  },
  {
   "cell_type": "code",
   "execution_count": 3,
   "id": "6d47a0ce",
   "metadata": {},
   "outputs": [
    {
     "name": "stdout",
     "output_type": "stream",
     "text": [
      "[[-0.68870502  1.05972925  0.70966985 -1.36013954]\n",
      " [-1.82899938  0.77027667 -0.6922755   1.49090064]\n",
      " [-1.65676179  0.78328087  0.20489654  0.47279722]\n",
      " [-0.84354071  0.04436798  0.90298661  0.28607249]\n",
      " [-0.2094124   0.10464039  1.99449948 -0.25351467]\n",
      " [ 1.78896953 -0.8222358  -0.37859783 -0.63784726]]\n"
     ]
    }
   ],
   "source": [
    "random_data = np.random.randn(6, 4)\n",
    "print(random_data)"
   ]
  },
  {
   "cell_type": "code",
   "execution_count": 4,
   "id": "38b49ad6",
   "metadata": {},
   "outputs": [
    {
     "name": "stdout",
     "output_type": "stream",
     "text": [
      "                   A         B         C         D\n",
      "2023-01-01 -0.688705  1.059729  0.709670 -1.360140\n",
      "2023-01-02 -1.828999  0.770277 -0.692275  1.490901\n",
      "2023-01-03 -1.656762  0.783281  0.204897  0.472797\n",
      "2023-01-04 -0.843541  0.044368  0.902987  0.286072\n",
      "2023-01-05 -0.209412  0.104640  1.994499 -0.253515\n",
      "2023-01-06  1.788970 -0.822236 -0.378598 -0.637847\n"
     ]
    }
   ],
   "source": [
    "dates = pd.date_range(\"2023-01-01\", periods=6)\n",
    "df = pd.DataFrame(random_data, index=dates, columns=['A', 'B', 'C', 'D'])\n",
    "print(df)"
   ]
  },
  {
   "cell_type": "markdown",
   "id": "08dd913b",
   "metadata": {},
   "source": [
    "## pd.date_range()\n",
    "\n",
    "**Usage**: Generates a fixed frequency DatetimeIndex.\n",
    "\n",
    "**Parameters**:\n",
    "- `start`: Start date.\n",
    "- `end`: End date.\n",
    "- `periods`: Number of periods to generate.\n",
    "- `freq`: Frequency string (e.g., 'D' for daily).\n",
    "        "
   ]
  },
  {
   "cell_type": "code",
   "execution_count": 5,
   "id": "56eed8ba",
   "metadata": {},
   "outputs": [
    {
     "name": "stdout",
     "output_type": "stream",
     "text": [
      "DatetimeIndex(['2023-01-01', '2023-01-02', '2023-01-03', '2023-01-04',\n",
      "               '2023-01-05', '2023-01-06'],\n",
      "              dtype='datetime64[ns]', freq='D')\n"
     ]
    }
   ],
   "source": [
    "dates = pd.date_range(start=\"2023-01-01\", end=\"2023-01-06\")\n",
    "print(dates)"
   ]
  },
  {
   "cell_type": "markdown",
   "id": "36c7f6b1",
   "metadata": {},
   "source": [
    "## df.head() and df.tail()\n",
    "\n",
    "**Usage**: Returns the first or last `n` rows of the DataFrame.\n",
    "\n",
    "**Parameters**:\n",
    "- `n`: Number of rows to return (default is 5).\n",
    "        "
   ]
  },
  {
   "cell_type": "code",
   "execution_count": 6,
   "id": "5a8b39bb",
   "metadata": {},
   "outputs": [
    {
     "name": "stdout",
     "output_type": "stream",
     "text": [
      "          A         B         C         D\n",
      "0  1.605023 -1.252496 -1.117942 -0.264162\n",
      "1 -0.673856  0.394693  0.795585  0.756705\n",
      "2  1.608609  0.312549 -0.092162  0.165893\n",
      "          A         B         C         D\n",
      "7  0.004701  1.107013 -1.389911  2.907592\n",
      "8 -0.670586  1.603524  0.523739  0.295516\n",
      "9 -0.992684 -1.137949  1.652399  0.590471\n"
     ]
    }
   ],
   "source": [
    "df = pd.DataFrame(np.random.randn(10, 4), columns=list(\"ABCD\"))\n",
    "print(df.head(3))\n",
    "print(df.tail(3))"
   ]
  },
  {
   "cell_type": "markdown",
   "id": "979e63a6",
   "metadata": {},
   "source": [
    "## df.index\n",
    "\n",
    "**Usage**: Returns the index (row labels) of the DataFrame."
   ]
  },
  {
   "cell_type": "code",
   "execution_count": 7,
   "id": "eb8492c8",
   "metadata": {},
   "outputs": [
    {
     "name": "stdout",
     "output_type": "stream",
     "text": [
      "   A  B\n",
      "a  1  4\n",
      "b  2  5\n",
      "c  3  6\n",
      "Index(['a', 'b', 'c'], dtype='object')\n"
     ]
    }
   ],
   "source": [
    "df = pd.DataFrame({'A': [1, 2, 3], 'B': [4, 5, 6]}, index=['a', 'b', 'c'])\n",
    "print(df)\n",
    "print(df.index)"
   ]
  },
  {
   "cell_type": "markdown",
   "id": "cd63c031",
   "metadata": {},
   "source": [
    "## df.columns\n",
    "\n",
    "**Usage**: Returns the column labels of the DataFrame."
   ]
  },
  {
   "cell_type": "code",
   "execution_count": 8,
   "id": "fc5bc4b0",
   "metadata": {},
   "outputs": [
    {
     "name": "stdout",
     "output_type": "stream",
     "text": [
      "Index(['A', 'B'], dtype='object')\n"
     ]
    }
   ],
   "source": [
    "df = pd.DataFrame({'A': [1, 2, 3], 'B': [4, 5, 6]})\n",
    "print(df.columns)"
   ]
  },
  {
   "cell_type": "markdown",
   "id": "4ed43f41",
   "metadata": {},
   "source": [
    "## df.to_numpy()\n",
    "\n",
    "**Usage**: Converts the DataFrame to a NumPy array.\n",
    "\n",
    "**Parameters**:\n",
    "- `dtype`: Desired data type of the array.\n",
    "- `copy`: Whether to ensure a copy is made (default is False).\n",
    "        "
   ]
  },
  {
   "cell_type": "code",
   "execution_count": 9,
   "id": "60beb91a",
   "metadata": {},
   "outputs": [
    {
     "name": "stdout",
     "output_type": "stream",
     "text": [
      "   A  B\n",
      "0  1  4\n",
      "1  2  5\n",
      "2  3  6\n",
      "[[1 4]\n",
      " [2 5]\n",
      " [3 6]]\n"
     ]
    }
   ],
   "source": [
    "df = pd.DataFrame({'A': [1, 2, 3], 'B': [4, 5, 6]})\n",
    "print(df)\n",
    "print(df.to_numpy())"
   ]
  },
  {
   "cell_type": "markdown",
   "id": "980c31bd",
   "metadata": {},
   "source": [
    "## df.describe()\n",
    "\n",
    "**Usage**: Generates descriptive statistics of the DataFrame.\n",
    "\n",
    "**Parameters**:\n",
    "- `percentiles`: List of percentiles to include.\n",
    "- `include`: Data types to include.\n",
    "- `exclude`: Data types to exclude.\n",
    "        "
   ]
  },
  {
   "cell_type": "code",
   "execution_count": 10,
   "id": "3fb5d789",
   "metadata": {},
   "outputs": [
    {
     "name": "stdout",
     "output_type": "stream",
     "text": [
      "         A    B\n",
      "count  3.0  3.0\n",
      "mean   2.0  5.0\n",
      "std    1.0  1.0\n",
      "min    1.0  4.0\n",
      "25%    1.5  4.5\n",
      "50%    2.0  5.0\n",
      "75%    2.5  5.5\n",
      "max    3.0  6.0\n"
     ]
    }
   ],
   "source": [
    "df = pd.DataFrame({'A': [1, 2, 3], 'B': [4, 5, 6]})\n",
    "print(df.describe())"
   ]
  },
  {
   "cell_type": "markdown",
   "id": "487ec9d5",
   "metadata": {},
   "source": [
    "## df.T\n",
    "\n",
    "**Usage**: Transposes the DataFrame, swapping rows and columns."
   ]
  },
  {
   "cell_type": "code",
   "execution_count": 11,
   "id": "f10a9378",
   "metadata": {},
   "outputs": [
    {
     "name": "stdout",
     "output_type": "stream",
     "text": [
      "   0  1  2\n",
      "A  1  2  3\n",
      "B  4  5  6\n"
     ]
    }
   ],
   "source": [
    "df = pd.DataFrame({'A': [1, 2, 3], 'B': [4, 5, 6]})\n",
    "print(df.T)"
   ]
  },
  {
   "cell_type": "markdown",
   "id": "2a3894b9",
   "metadata": {},
   "source": [
    "## df.sort_index()\n",
    "\n",
    "**Usage**: Sorts the DataFrame by its index.\n",
    "\n",
    "**Parameters**:\n",
    "- `axis`: Axis to sort along (0 for index, 1 for columns).\n",
    "- `ascending`: Sort ascending vs. descending.\n",
    "        "
   ]
  },
  {
   "cell_type": "code",
   "execution_count": 12,
   "id": "4ad9d009",
   "metadata": {},
   "outputs": [
    {
     "name": "stdout",
     "output_type": "stream",
     "text": [
      "     A\n",
      "a  100\n",
      "b    2\n",
      "c    3\n"
     ]
    }
   ],
   "source": [
    "df = pd.DataFrame({'A': [3, 100, 2]}, index=['c', 'a', 'b'])\n",
    "print(df.sort_index())"
   ]
  },
  {
   "cell_type": "markdown",
   "id": "a07530e8",
   "metadata": {},
   "source": [
    "## df.sort_values()\n",
    "\n",
    "**Usage**: Sorts the DataFrame by the specified column(s).\n",
    "\n",
    "**Parameters**:\n",
    "- `by`: Column label or list of labels to sort by.\n",
    "- `ascending`: Sort ascending vs. descending.\n",
    "- `inplace`: If True, perform operation in-place.\n",
    "        "
   ]
  },
  {
   "cell_type": "code",
   "execution_count": 13,
   "id": "dc4f70ab",
   "metadata": {},
   "outputs": [
    {
     "name": "stdout",
     "output_type": "stream",
     "text": [
      "   A\n",
      "1  1\n",
      "2  2\n",
      "0  3\n"
     ]
    }
   ],
   "source": [
    "df = pd.DataFrame({'A': [3, 1, 2]})\n",
    "print(df.sort_values(by='A'))"
   ]
  },
  {
   "cell_type": "markdown",
   "id": "d4703536",
   "metadata": {},
   "source": [
    "## df.loc[]\n",
    "\n",
    "**Usage**: Accesses a group of rows and columns by labels or a boolean array.\n",
    "`df.loc[row_labels, column_labels]\n",
    "`\n",
    "\n",
    "**Parameters**:\n",
    "- `row_labels`: Label(s) of rows to select.\n",
    "- `column_labels`: Label(s) of columns to select.\n",
    "        "
   ]
  },
  {
   "cell_type": "code",
   "execution_count": 14,
   "id": "47781a7a",
   "metadata": {},
   "outputs": [
    {
     "name": "stdout",
     "output_type": "stream",
     "text": [
      "      Name  Age         City\n",
      "A    Alice   25     New York\n",
      "B      Bob   30  Los Angeles\n",
      "C  Charlie   35      Chicago\n",
      "******************************\n",
      "Name            Bob\n",
      "Age              30\n",
      "City    Los Angeles\n",
      "Name: B, dtype: object\n"
     ]
    }
   ],
   "source": [
    "import pandas as pd\n",
    "\n",
    "# Sample DataFrame\n",
    "data = {'Name': ['Alice', 'Bob', 'Charlie'],\n",
    "        'Age': [25, 30, 35],\n",
    "        'City': ['New York', 'Los Angeles', 'Chicago']}\n",
    "df = pd.DataFrame(data, index=['A', 'B', 'C'])\n",
    "\n",
    "print(df)\n",
    "print(\"*\"*30)\n",
    "# Selecting a single row\n",
    "row_B = df.loc['B']\n",
    "print(row_B)\n"
   ]
  },
  {
   "cell_type": "code",
   "execution_count": 15,
   "id": "f02663c6",
   "metadata": {},
   "outputs": [
    {
     "name": "stdout",
     "output_type": "stream",
     "text": [
      "      Name         City\n",
      "A    Alice     New York\n",
      "B      Bob  Los Angeles\n",
      "C  Charlie      Chicago\n"
     ]
    }
   ],
   "source": [
    "# Selecting specific columns\n",
    "subset = df.loc[:, ['Name', 'City']]\n",
    "print(subset)\n"
   ]
  },
  {
   "cell_type": "code",
   "execution_count": 16,
   "id": "d17d9bb7",
   "metadata": {},
   "outputs": [
    {
     "name": "stdout",
     "output_type": "stream",
     "text": [
      "Los Angeles\n"
     ]
    }
   ],
   "source": [
    "# Selecting a single cell\n",
    "city_of_B = df.loc['B', 'City']\n",
    "print(city_of_B)\n"
   ]
  },
  {
   "cell_type": "code",
   "execution_count": 17,
   "id": "e33f2d34",
   "metadata": {},
   "outputs": [
    {
     "name": "stdout",
     "output_type": "stream",
     "text": [
      "      Name  Age         City\n",
      "B      Bob   30  Los Angeles\n",
      "C  Charlie   35      Chicago\n"
     ]
    }
   ],
   "source": [
    "# Boolean mask to filter rows where Age > 28\n",
    "bool_array = df['Age'] > 28\n",
    "filtered_df = df.loc[bool_array]\n",
    "print(filtered_df)\n"
   ]
  },
  {
   "cell_type": "markdown",
   "id": "c1e22bcb",
   "metadata": {},
   "source": [
    "## df.iloc[]\n",
    "\n",
    "**Usage**: Accesses a group of rows and columns by integer positions.\n",
    "`df.iloc[row_positions, column_positions]\n",
    "`\n",
    "\n",
    "\n",
    "**Parameters**:\n",
    "- `row_positions`: Integer position(s) of rows to select.\n",
    "- `column_positions`: Integer position(s) of columns to select.\n",
    "        "
   ]
  },
  {
   "cell_type": "code",
   "execution_count": 18,
   "id": "d979a381",
   "metadata": {},
   "outputs": [
    {
     "name": "stdout",
     "output_type": "stream",
     "text": [
      "Name            Bob\n",
      "Age              30\n",
      "City    Los Angeles\n",
      "Name: 1, dtype: object\n"
     ]
    }
   ],
   "source": [
    "\n",
    "# Sample DataFrame\n",
    "data = {'Name': ['Alice', 'Bob', 'Charlie'],\n",
    "        'Age': [25, 30, 35],\n",
    "        'City': ['New York', 'Los Angeles', 'Chicago']}\n",
    "df = pd.DataFrame(data)\n",
    "\n",
    "# Selecting the second row (index 1)\n",
    "row_1 = df.iloc[1]\n",
    "print(row_1)\n"
   ]
  },
  {
   "cell_type": "code",
   "execution_count": 19,
   "id": "2b63b8e0",
   "metadata": {},
   "outputs": [
    {
     "name": "stdout",
     "output_type": "stream",
     "text": [
      "    Name  Age\n",
      "0  Alice   25\n",
      "1    Bob   30\n"
     ]
    }
   ],
   "source": [
    "# Selecting first two rows and first two columns\n",
    "subset = df.iloc[:2, :2]\n",
    "print(subset)\n"
   ]
  },
  {
   "cell_type": "code",
   "execution_count": 20,
   "id": "c962297b",
   "metadata": {},
   "outputs": [
    {
     "name": "stdout",
     "output_type": "stream",
     "text": [
      "Los Angeles\n"
     ]
    }
   ],
   "source": [
    "# Selecting the value in the second row, third column\n",
    "cell_value = df.iloc[1, 2]\n",
    "print(cell_value)\n"
   ]
  },
  {
   "cell_type": "code",
   "execution_count": 21,
   "id": "76568d3a",
   "metadata": {},
   "outputs": [
    {
     "name": "stdout",
     "output_type": "stream",
     "text": [
      "   Age      City\n",
      "0   25  New York\n",
      "2   35   Chicago\n"
     ]
    }
   ],
   "source": [
    "# Selecting specific rows and columns\n",
    "subset = df.iloc[[0, 2], [1, 2]]\n",
    "print(subset)\n"
   ]
  },
  {
   "cell_type": "markdown",
   "id": "f7a59073",
   "metadata": {},
   "source": [
    "## Indexing with brackets []\n",
    "\n",
    "Can be used for column selection and filtering, but this is **Not recomended for row selection**.\n",
    "- `df['col']` when selecting a single column.\n",
    "- `df[['col1', 'col2']]` when selecting multiple columns.\n",
    "- `df.loc[]` for label-based selection eg: `df.loc[1, 'col1']`.\n",
    "- `df.iloc[]` for position-based selection eg: `df.iloc[1, 0]`\n",
    "- `df[df['col'] > x]` for filtering rows, based on a condition on a column"
   ]
  },
  {
   "cell_type": "code",
   "execution_count": 22,
   "id": "4b985b0f",
   "metadata": {},
   "outputs": [
    {
     "name": "stdout",
     "output_type": "stream",
     "text": [
      "0      Alice\n",
      "1        Bob\n",
      "2    Charlie\n",
      "Name: Name, dtype: object\n",
      "******************************\n",
      "      Name  Age\n",
      "0    Alice   25\n",
      "1      Bob   30\n",
      "2  Charlie   35\n",
      "******************************\n",
      "      Name  Age         City\n",
      "1      Bob   30  Los Angeles\n",
      "2  Charlie   35      Chicago\n"
     ]
    }
   ],
   "source": [
    "print(df['Name'])\n",
    "print(\"*\"*30)\n",
    "print(df[['Name', 'Age']])\n",
    "print(\"*\"*30)\n",
    "print(df[df['Age']>=30]) #df[Boolean Array]"
   ]
  },
  {
   "cell_type": "markdown",
   "id": "ede21ed8",
   "metadata": {},
   "source": [
    "## pd.concat()\n",
    "\n",
    "**Usage**: Concatenates pandas objects along a particular axis.\n",
    "\n",
    "**Parameters**:\n",
    "- `objs`: Sequence or mapping of Series or DataFrame objects.\n",
    "- `axis`: Axis to concatenate along (0 for index, 1 for columns).\n",
    "- `join`: How to handle indexes on other axis ('inner' or 'outer').\n",
    "- `ignore_index`: If True, do not use the index values along the concatenation axis.\n",
    "        "
   ]
  },
  {
   "cell_type": "code",
   "execution_count": 23,
   "id": "cbe48a9e",
   "metadata": {},
   "outputs": [
    {
     "name": "stdout",
     "output_type": "stream",
     "text": [
      "   A\n",
      "0  1\n",
      "1  2\n",
      "********************\n",
      "   A\n",
      "0  3\n",
      "1  4\n",
      "********************\n",
      "   A  A\n",
      "0  1  3\n",
      "1  2  4\n",
      "********************\n",
      "   A\n",
      "0  1\n",
      "1  2\n",
      "2  3\n",
      "3  4\n"
     ]
    }
   ],
   "source": [
    "df1 = pd.DataFrame({'A': [1, 2]})\n",
    "df2 = pd.DataFrame({'A': [3, 4]})\n",
    "print(df1)\n",
    "print(\"*\"*20)\n",
    "print(df2)\n",
    "print(\"*\"*20)\n",
    "print(pd.concat([df1, df2], axis=1))\n",
    "print(\"*\"*20)\n",
    "print(pd.concat([df1, df2], axis=0, ignore_index=True))\n",
    "\n"
   ]
  },
  {
   "cell_type": "markdown",
   "id": "9e92fc17",
   "metadata": {},
   "source": [
    "## pd.groupby()\n",
    "\n",
    "**Usage**: Groups DataFrame using a mapper or by a Series of columns.\n",
    "\n",
    "**Parameters**:\n",
    "- `by`: Mapping, function, label, or list of labels.\n",
    "- `axis`: Split along rows (0) or columns (1).\n",
    "- `level`: Level of MultiIndex.\n",
    "- `as_index`: For aggregated output, return object with group labels as the index.\n",
    "- `sort`: Sort group keys.\n",
    "\n"
   ]
  },
  {
   "cell_type": "code",
   "execution_count": 24,
   "id": "31b2de59",
   "metadata": {},
   "outputs": [
    {
     "name": "stdout",
     "output_type": "stream",
     "text": [
      "  Category  Values\n",
      "0        A      10\n",
      "1        B      20\n",
      "2        A      30\n",
      "3        B      40\n",
      "4        A      50\n",
      "******************************\n",
      "          Values\n",
      "Category        \n",
      "A             90\n",
      "B             60\n"
     ]
    }
   ],
   "source": [
    "import pandas as pd\n",
    "\n",
    "# Sample DataFrame\n",
    "data = pd.DataFrame({\n",
    "    'Category': ['A', 'B', 'A', 'B', 'A'],\n",
    "    'Values': [10, 20, 30, 40, 50]\n",
    "})\n",
    "\n",
    "print(data)\n",
    "print(\"*\"*30)\n",
    "# Grouping by 'Category' and computing the sum\n",
    "grouped = data.groupby('Category').sum()\n",
    "print(grouped)\n"
   ]
  },
  {
   "cell_type": "markdown",
   "id": "9aa64523",
   "metadata": {},
   "source": [
    "### Understanding data.groupby('Category')\n",
    "```python\n",
    "grouped = data.groupby('Category')\n",
    "```\n",
    "`grouped` is a GroupBy object. It doesn’t return a modified DataFrame immediately, but you can iterate over it or apply aggregations.\n"
   ]
  },
  {
   "cell_type": "code",
   "execution_count": 25,
   "id": "c87173b0",
   "metadata": {},
   "outputs": [
    {
     "name": "stdout",
     "output_type": "stream",
     "text": [
      "Group: A\n",
      "  Category  Values\n",
      "0        A      10\n",
      "2        A      30\n",
      "4        A      50\n",
      "********************\n",
      "Group: B\n",
      "  Category  Values\n",
      "1        B      20\n",
      "3        B      40\n",
      "********************\n"
     ]
    }
   ],
   "source": [
    "grouped = data.groupby('Category')\n",
    "for key, group in grouped:\n",
    "    print(f\"Group: {key}\")\n",
    "    print(group)\n",
    "    print(\"*\"*20)\n",
    "\n"
   ]
  },
  {
   "cell_type": "markdown",
   "id": "e52bcbeb",
   "metadata": {},
   "source": [
    "### Aggregating Data (sum(), mean(), count())\n",
    "Once grouped, you can apply aggregation functions like sum, mean, count, etc.\n",
    "\n",
    "```python\n",
    "grouped_sum = data.groupby('Category').sum()\n",
    "```"
   ]
  },
  {
   "cell_type": "code",
   "execution_count": 26,
   "id": "c3bcb4e2",
   "metadata": {},
   "outputs": [
    {
     "data": {
      "text/html": [
       "<div>\n",
       "<style scoped>\n",
       "    .dataframe tbody tr th:only-of-type {\n",
       "        vertical-align: middle;\n",
       "    }\n",
       "\n",
       "    .dataframe tbody tr th {\n",
       "        vertical-align: top;\n",
       "    }\n",
       "\n",
       "    .dataframe thead th {\n",
       "        text-align: right;\n",
       "    }\n",
       "</style>\n",
       "<table border=\"1\" class=\"dataframe\">\n",
       "  <thead>\n",
       "    <tr style=\"text-align: right;\">\n",
       "      <th></th>\n",
       "      <th>Values</th>\n",
       "    </tr>\n",
       "    <tr>\n",
       "      <th>Category</th>\n",
       "      <th></th>\n",
       "    </tr>\n",
       "  </thead>\n",
       "  <tbody>\n",
       "    <tr>\n",
       "      <th>A</th>\n",
       "      <td>30.0</td>\n",
       "    </tr>\n",
       "    <tr>\n",
       "      <th>B</th>\n",
       "      <td>30.0</td>\n",
       "    </tr>\n",
       "  </tbody>\n",
       "</table>\n",
       "</div>"
      ],
      "text/plain": [
       "          Values\n",
       "Category        \n",
       "A           30.0\n",
       "B           30.0"
      ]
     },
     "execution_count": 26,
     "metadata": {},
     "output_type": "execute_result"
    }
   ],
   "source": [
    "data.groupby('Category').mean()\n"
   ]
  },
  {
   "cell_type": "markdown",
   "id": "8203c2b5",
   "metadata": {},
   "source": [
    "### Applying Multiple Aggregations (agg())\n",
    "\n",
    "Instead of a single operation, you can apply multiple functions at once. You will have to pass these function names as string, but keep in mind that eventhough they are passed as list of string, they are predefined names.\n",
    "\n",
    "i,e., if you pass `['sum', 'pdt']` , it will throw an error."
   ]
  },
  {
   "cell_type": "code",
   "execution_count": 27,
   "id": "577c467d",
   "metadata": {},
   "outputs": [
    {
     "name": "stdout",
     "output_type": "stream",
     "text": [
      "         Values            \n",
      "            sum  mean count\n",
      "Category                   \n",
      "A            90  30.0     3\n",
      "B            60  30.0     2\n"
     ]
    }
   ],
   "source": [
    "grouped_agg = data.groupby('Category').agg(['sum','mean', 'count'])\n",
    "print(grouped_agg)\n"
   ]
  },
  {
   "cell_type": "markdown",
   "id": "447afc7e",
   "metadata": {},
   "source": [
    "### Grouping Multiple Columns\n",
    "You can group by multiple columns by passing a list of column names."
   ]
  },
  {
   "cell_type": "code",
   "execution_count": 28,
   "id": "7f2f8b27",
   "metadata": {},
   "outputs": [
    {
     "name": "stdout",
     "output_type": "stream",
     "text": [
      "                      Values\n",
      "Category Subcategory        \n",
      "A        X                60\n",
      "         Y                20\n",
      "B        X                90\n",
      "         Y                40\n"
     ]
    }
   ],
   "source": [
    "df = pd.DataFrame({\n",
    "    'Category': ['A', 'A', 'B', 'B', 'A', 'B'],\n",
    "    'Subcategory': ['X', 'Y', 'X', 'Y', 'X', 'X'],\n",
    "    'Values': [10, 20, 30, 40, 50, 60]\n",
    "})\n",
    "\n",
    "grouped = df.groupby(['Category', 'Subcategory']).sum()\n",
    "print(grouped)\n"
   ]
  },
  {
   "cell_type": "markdown",
   "id": "665eb8d1",
   "metadata": {},
   "source": [
    "### Transform Instead of Aggregation\n",
    "\n",
    "If you want to keep the original DataFrame shape, use `.transform()` instead of `.agg()`:\n",
    "\n",
    "Each row gets the mean (or aggregation) of its category without changing the DataFrame shape.\n"
   ]
  },
  {
   "cell_type": "code",
   "execution_count": 29,
   "id": "9375809f",
   "metadata": {},
   "outputs": [
    {
     "name": "stdout",
     "output_type": "stream",
     "text": [
      "  Category Subcategory  Values  Mean_Values\n",
      "0        A           X      10    26.666667\n",
      "1        A           Y      20    26.666667\n",
      "2        B           X      30    43.333333\n",
      "3        B           Y      40    43.333333\n",
      "4        A           X      50    26.666667\n",
      "5        B           X      60    43.333333\n"
     ]
    }
   ],
   "source": [
    "df['Mean_Values'] = df.groupby('Category')['Values'].transform('mean')\n",
    "print(df)\n"
   ]
  },
  {
   "cell_type": "markdown",
   "id": "9e3c3a84",
   "metadata": {},
   "source": [
    "### Filtering Groups (filter())\n",
    "\n",
    "You can keep only groups that satisfy a condition:\n",
    "But that condition should be written as a function that return boolean, and pass that function into `filter`\n",
    "\n",
    "This function should accept a group, return `True` if the condition satisfies and we want to keep the group, `False` if we want to filter them out."
   ]
  },
  {
   "cell_type": "code",
   "execution_count": 30,
   "id": "b5eb0cb6",
   "metadata": {},
   "outputs": [
    {
     "name": "stdout",
     "output_type": "stream",
     "text": [
      "  Category Subcategory  Values  Mean_Values\n",
      "0        A           X      10    26.666667\n",
      "1        A           Y      20    26.666667\n",
      "2        B           X      30    43.333333\n",
      "3        B           Y      40    43.333333\n",
      "4        A           X      50    26.666667\n",
      "5        B           X      60    43.333333\n"
     ]
    }
   ],
   "source": [
    "def greater_than_50(x):\n",
    "    return x['Values'].sum() > 50\n",
    "\n",
    "filtered = df.groupby('Category').filter(greater_than_50)\n",
    "print(filtered)\n"
   ]
  },
  {
   "cell_type": "markdown",
   "id": "f0d0208e",
   "metadata": {},
   "source": [
    "## Working with CSV\n",
    "\n",
    "To load csv data use the `read_csv()` function, and to save a dataframe as csv, use `df.to_csv()`."
   ]
  },
  {
   "cell_type": "markdown",
   "id": "d40dfc1b",
   "metadata": {},
   "source": []
  },
  {
   "cell_type": "code",
   "execution_count": null,
   "id": "5286d3af",
   "metadata": {},
   "outputs": [],
   "source": [
    "# eg: \n",
    "# data = read_csv('/path/of/csv/file')\n",
    "\n",
    "# data.to_csv('/path/to/new/csv')"
   ]
  }
 ],
 "metadata": {
  "kernelspec": {
   "display_name": "mlp",
   "language": "python",
   "name": "python3"
  },
  "language_info": {
   "codemirror_mode": {
    "name": "ipython",
    "version": 3
   },
   "file_extension": ".py",
   "mimetype": "text/x-python",
   "name": "python",
   "nbconvert_exporter": "python",
   "pygments_lexer": "ipython3",
   "version": "3.10.9"
  }
 },
 "nbformat": 4,
 "nbformat_minor": 5
}
